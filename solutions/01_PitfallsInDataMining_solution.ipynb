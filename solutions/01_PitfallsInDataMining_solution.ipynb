{
 "cells": [
  {
   "cell_type": "markdown",
   "metadata": {},
   "source": [
    "# Assignment 01 - Pitfalls in Data Mining     \n",
    "## CSCI E-96\n",
    "\n",
    "The goal of data mining is to find important relationships in large complex datasets. These dataset typically contain a large number of variables. The **high-dimensional** nature of the data leads to some commonly encountered pitfalls which lead to incorrect inferences.   \n",
    "\n",
    "In this assignment you will gain a bit of experience with three important concepts in data mining:  \n",
    "\n",
    "1. **False Discovery Rate Control:** The goal of data mining is to find important relationships in large complex datasets. These dataset typically contain a large number of variables. The **high-dimensional** nature of the data leads to some commonly encountered pitfalls which lead to incorrect inferences. A related problem is cutting off a large-scale analysis when a desired relationship is 'found'. This practice of **p-value mining** often leads to unwarranted inferences. You will apply false discovery rate (FDR) control methods to address this problem.   \n",
    "2. **Key-Value Pairs:** Large scale data is typically managed using key-value (KV) pairs. The exercises in this assignment give you some experience working with KV pair data management.  \n",
    "3. **Map and Reduce Processes:** Much of large scale data mining requires use of a split-apply-combine approach. The data is split into manageable chunks, analytic transformations are applied, and the result combined or aggregated. A commonly used class of a split-apply-combine algorithm is MapReduce. \n",
    "\n",
    "In order to keep the scope of this assignment manageable, you will use limited versions of KV pair management and MapReduce. Specifically, you will use common Python tools to implement these concepts rather than dedicated large scale analytic platforms. "
   ]
  },
  {
   "cell_type": "markdown",
   "metadata": {},
   "source": [
    "## Multiple Hypothesis Tesing\n",
    "\n",
    "Testing multiple hypothesis in high-dimensional data can be problematic. Exhaustively testing all pairwise relationships between variables in a data set is a commonly used, but generally misleading from of **multiple comparisons**. The chance of finding false significance, using such a **data dredging** approach, can be surprisingly high. \n",
    "\n",
    "In this exercise you will perform multiple comparisons on only 20 **identically distributed independent (iid)** variables. Ideally, such tests should not find significant relationships, but the actual result is quite different. \n",
    "\n",
    "To get started, execute the code in the cell below to load the required packages. "
   ]
  },
  {
   "cell_type": "code",
   "execution_count": 1,
   "metadata": {},
   "outputs": [],
   "source": [
    "import pandas as pd\n",
    "import numpy as np\n",
    "import numpy.random as nr\n",
    "from scipy.stats import ttest_ind, f_oneway\n",
    "from itertools import product, combinations\n",
    "import matplotlib.pyplot as plt\n",
    "import seaborn as sns\n",
    "\n",
    "pd.set_option(\"display.max_rows\", None, \"display.max_columns\", None)"
   ]
  },
  {
   "cell_type": "markdown",
   "metadata": {},
   "source": [
    "In this exercise you will apply a t-test to all pairwise combinations of identical Normally distributed variables. In this case, we will create a data set with 20 iid Normal distributions of 1000 samples each. Execute the code in the cell below to find this data and display the mean and variance of each variable.  "
   ]
  },
  {
   "cell_type": "code",
   "execution_count": 2,
   "metadata": {},
   "outputs": [
    {
     "name": "stdout",
     "output_type": "stream",
     "text": [
      "The means of the columns are\n",
      " [-1.16191649e-01  2.80829317e-02 -1.78516419e-02 -1.44691489e-02\n",
      "  3.03718152e-02  1.20007442e-02 -9.58845606e-05  1.98662580e-03\n",
      "  4.94154934e-02 -4.11640866e-02 -6.32977862e-03 -5.93868192e-02\n",
      " -2.56373595e-02  1.43568791e-02 -1.44725765e-02 -1.37023955e-02\n",
      "  1.80622439e-02  5.87029691e-02 -2.02650514e-02 -1.56346106e-02]\n",
      "\n",
      "The variances of the columns are\n",
      " [0.94834508 1.04744241 1.0258018  0.96977571 1.0089001  1.04113864\n",
      " 1.00657222 0.99192594 1.04713487 1.04329434 1.04023108 0.96791346\n",
      " 1.03706907 1.07179865 1.01431404 1.05060289 1.02054329 0.9686211\n",
      " 1.02810287 0.99521555]\n"
     ]
    }
   ],
   "source": [
    "ncolumns = 20\n",
    "nr.seed(234)\n",
    "normal_vars = nr.normal(size=(1000,ncolumns))\n",
    "print('The means of the columns are\\n', np.mean(normal_vars, axis = 0))\n",
    "print('\\nThe variances of the columns are\\n', np.var(normal_vars, axis = 0))"
   ]
  },
  {
   "cell_type": "markdown",
   "metadata": {},
   "source": [
    "Notice that means and variances are close to 0.0 and 1.0 respectively. As expected, there is not much difference between these variables.\n",
    "\n",
    "How many of these t-tests will show **significance** at the 0.05 cut-off level? There are 380 pairwise combinations, so we expect to find a number of falsely significant test results at this level. To find out, complete and execute the code in the cell below to filter the test results and print those that show significance. "
   ]
  },
  {
   "cell_type": "markdown",
   "metadata": {},
   "source": [
    "### Creating a hash \n",
    "\n",
    "The goal of this exercise is to compute pairwise hypothesis tests of the differences in means for each of the iid Normal vectors. As an intermediate step you will create a Pandas data frame using a hash of the keys of the vectors. The data frame will contain the **key-value**, $(K,V)$, pairs. Each key must represent an index for the two vectors used to compute the test statistic. The keys will then be used to index the results of these hypothesis tests. \n",
    "\n",
    "The question is, how can we create a hash from the keys for the pair of vectors? In this case to we will use a simple, but far from optimal hash. For the two vector indicies $i, j$, for some key and modulo, $m$, we will compute the hash as:  \n",
    "\n",
    "$$h(i,j) = (i + key*j) mod m$$\n",
    "\n",
    "> **Computational Note:** The Pandas data frame is an efficient and reasonably scalable **hash table**. The hash function used depends on the type of the key; integer, string, etc. The resulting dictionary of key-value pairs, $(K,V)$, can therefore be access in far less than linear time, often about $O(log(N))$.  \n",
    "\n",
    "If you are not familiar with Python dictionaries you can find a short tutorial [here](https://www.tutorialspoint.com/python_data_structure/python_hash_table.htm), as well as many other places on the web."
   ]
  },
  {
   "cell_type": "code",
   "execution_count": 3,
   "metadata": {},
   "outputs": [
    {
     "data": {
      "text/plain": [
       "32768"
      ]
     },
     "execution_count": 3,
     "metadata": {},
     "output_type": "execute_result"
    }
   ],
   "source": [
    "1024*32"
   ]
  },
  {
   "cell_type": "markdown",
   "metadata": {},
   "source": [
    "> **Exercise 1-1:** Given that our space of vectors is actually quite small, just 20, we do not need a sophisticated and scalable hash function. This hashed key will then be used to store and retrieve the values using a Python dictionary, in about $O(log(N))$ time.     \n",
    "\n",
    "> In this exercise you will test a simple hash function and its inverse. Examine the code below and notice that the hash function encodes the two indexes into a single integer by simple additional and multiplication. The modulo operation limits the size of the hash table. However, to keep things simple you will not need to implement any hash collision resolution mechanism. As a result, the size of the table is set much larger than required.  \n",
    "\n",
    "> To test this hash, do the following:    \n",
    "> 1. Create a function called hash function to compute the hash. The arguments to the function are $i$ and $j$, the `hash\\_key` and the `modulo\\_multiplier`. The defaults of the arguments are $hash\\_key=1024$ and $modulo\\_multiplier=32$. The modulo number is $hash\\_key * modulo\\_multiplier$, e.g. $modulo = 32,768$. The multiplier is the ratio of expected values stored, $n$, to the number of unique hash keys, $m$, e.g. the ratio $m/n$.\n",
    "> 2. Using the Python [ittertools.combinations](https://docs.python.org/3/library/itertools.html#itertools.combinations) function create all unique pairwise combinations of indexes i and j. The arguments to this function are the indexes to the iid Normal vectors. The iterator is `range(ncolumns)` choose 2, since these comparisons are pairwise.    \n",
    "> 3. Within this loop call the hash with the values of $i$ and $j$ as arguments.   \n",
    "> 3. On a single line print the following; the values of i and j, the hash key value, but only if $i \\le 6$. The restriction is to keep the printed output shorter.   "
   ]
  },
  {
   "cell_type": "code",
   "execution_count": 4,
   "metadata": {
    "scrolled": false
   },
   "outputs": [
    {
     "name": "stdout",
     "output_type": "stream",
     "text": [
      "i = 0  j = 1   hash = 2048\n",
      "i = 0  j = 2   hash = 3072\n",
      "i = 0  j = 3   hash = 4096\n",
      "i = 0  j = 4   hash = 5120\n",
      "i = 0  j = 5   hash = 6144\n",
      "i = 0  j = 6   hash = 7168\n",
      "i = 0  j = 7   hash = 8192\n",
      "i = 0  j = 8   hash = 9216\n",
      "i = 0  j = 9   hash = 10240\n",
      "i = 0  j = 10   hash = 11264\n",
      "i = 0  j = 11   hash = 12288\n",
      "i = 0  j = 12   hash = 13312\n",
      "i = 0  j = 13   hash = 14336\n",
      "i = 0  j = 14   hash = 15360\n",
      "i = 0  j = 15   hash = 16384\n",
      "i = 0  j = 16   hash = 17408\n",
      "i = 0  j = 17   hash = 18432\n",
      "i = 0  j = 18   hash = 19456\n",
      "i = 0  j = 19   hash = 20480\n",
      "i = 1  j = 2   hash = 3073\n",
      "i = 1  j = 3   hash = 4097\n",
      "i = 1  j = 4   hash = 5121\n",
      "i = 1  j = 5   hash = 6145\n",
      "i = 1  j = 6   hash = 7169\n",
      "i = 1  j = 7   hash = 8193\n",
      "i = 1  j = 8   hash = 9217\n",
      "i = 1  j = 9   hash = 10241\n",
      "i = 1  j = 10   hash = 11265\n",
      "i = 1  j = 11   hash = 12289\n",
      "i = 1  j = 12   hash = 13313\n",
      "i = 1  j = 13   hash = 14337\n",
      "i = 1  j = 14   hash = 15361\n",
      "i = 1  j = 15   hash = 16385\n",
      "i = 1  j = 16   hash = 17409\n",
      "i = 1  j = 17   hash = 18433\n",
      "i = 1  j = 18   hash = 19457\n",
      "i = 1  j = 19   hash = 20481\n",
      "i = 2  j = 3   hash = 4098\n",
      "i = 2  j = 4   hash = 5122\n",
      "i = 2  j = 5   hash = 6146\n",
      "i = 2  j = 6   hash = 7170\n",
      "i = 2  j = 7   hash = 8194\n",
      "i = 2  j = 8   hash = 9218\n",
      "i = 2  j = 9   hash = 10242\n",
      "i = 2  j = 10   hash = 11266\n",
      "i = 2  j = 11   hash = 12290\n",
      "i = 2  j = 12   hash = 13314\n",
      "i = 2  j = 13   hash = 14338\n",
      "i = 2  j = 14   hash = 15362\n",
      "i = 2  j = 15   hash = 16386\n",
      "i = 2  j = 16   hash = 17410\n",
      "i = 2  j = 17   hash = 18434\n",
      "i = 2  j = 18   hash = 19458\n",
      "i = 2  j = 19   hash = 20482\n",
      "i = 3  j = 4   hash = 5123\n",
      "i = 3  j = 5   hash = 6147\n",
      "i = 3  j = 6   hash = 7171\n",
      "i = 3  j = 7   hash = 8195\n",
      "i = 3  j = 8   hash = 9219\n",
      "i = 3  j = 9   hash = 10243\n",
      "i = 3  j = 10   hash = 11267\n",
      "i = 3  j = 11   hash = 12291\n",
      "i = 3  j = 12   hash = 13315\n",
      "i = 3  j = 13   hash = 14339\n",
      "i = 3  j = 14   hash = 15363\n",
      "i = 3  j = 15   hash = 16387\n",
      "i = 3  j = 16   hash = 17411\n",
      "i = 3  j = 17   hash = 18435\n",
      "i = 3  j = 18   hash = 19459\n",
      "i = 3  j = 19   hash = 20483\n",
      "i = 4  j = 5   hash = 6148\n",
      "i = 4  j = 6   hash = 7172\n",
      "i = 4  j = 7   hash = 8196\n",
      "i = 4  j = 8   hash = 9220\n",
      "i = 4  j = 9   hash = 10244\n",
      "i = 4  j = 10   hash = 11268\n",
      "i = 4  j = 11   hash = 12292\n",
      "i = 4  j = 12   hash = 13316\n",
      "i = 4  j = 13   hash = 14340\n",
      "i = 4  j = 14   hash = 15364\n",
      "i = 4  j = 15   hash = 16388\n",
      "i = 4  j = 16   hash = 17412\n",
      "i = 4  j = 17   hash = 18436\n",
      "i = 4  j = 18   hash = 19460\n",
      "i = 4  j = 19   hash = 20484\n",
      "i = 5  j = 6   hash = 7173\n",
      "i = 5  j = 7   hash = 8197\n",
      "i = 5  j = 8   hash = 9221\n",
      "i = 5  j = 9   hash = 10245\n",
      "i = 5  j = 10   hash = 11269\n",
      "i = 5  j = 11   hash = 12293\n",
      "i = 5  j = 12   hash = 13317\n",
      "i = 5  j = 13   hash = 14341\n",
      "i = 5  j = 14   hash = 15365\n",
      "i = 5  j = 15   hash = 16389\n",
      "i = 5  j = 16   hash = 17413\n",
      "i = 5  j = 17   hash = 18437\n",
      "i = 5  j = 18   hash = 19461\n",
      "i = 5  j = 19   hash = 20485\n"
     ]
    }
   ],
   "source": [
    "def hash_function(i, j, hash_key=1024, modulo_multiplier=32):\n",
    "    ## Put your code below. \n",
    "    modulo = hash_key * modulo_multiplier\n",
    "    return (i + (j + 1) * hash_key) % modulo\n",
    "\n",
    "\n",
    "for i,j in combinations(range(ncolumns), 2):\n",
    "    if i < 6: \n",
    "        hash = hash_function(i,j)\n",
    "        print('i = ' + str(i) + '  j = ' + str(j) + '   hash = ' + str(hash))"
   ]
  },
  {
   "cell_type": "markdown",
   "metadata": {},
   "source": [
    "> Examine the key pairs and the hash values. The question is, are there any hash collisions? This can be done as follows:   \n",
    "> 5. Compute a list of the hash values for all combinations of $i$ and $j$.   \n",
    "> 6. Print the length of the list.  \n",
    "> 7. Print the length of the unique values of the hash. You can find the unique values in a list with the [numpy.unique](https://numpy.org/doc/stable/reference/generated/numpy.unique.html) function. "
   ]
  },
  {
   "cell_type": "code",
   "execution_count": 5,
   "metadata": {},
   "outputs": [
    {
     "name": "stdout",
     "output_type": "stream",
     "text": [
      "190\n",
      "190\n"
     ]
    }
   ],
   "source": [
    "## Put your code below. \n",
    "hash_list = [hash_function(i,j) for i,j in combinations(range(ncolumns), 2)]\n",
    "print(len(hash_list))\n",
    "print(len(np.unique(hash_list)))"
   ]
  },
  {
   "cell_type": "markdown",
   "metadata": {},
   "source": [
    "> Examine the results you have printed. Is there any evidence of hash key collisions?     \n",
    "> The ratio of $m/n$ is deliberately kept high since the simple hash function has no collision resolution mechanism. Optionally, you can try reducing this ration (the multiplier) to 16 and 8, noting the increase in hash collisions.  \n",
    "> **End of exercise.**"
   ]
  },
  {
   "cell_type": "markdown",
   "metadata": {},
   "source": [
    "### The map process\n",
    "\n",
    "We are constructing this example a map and a reduce process. The processes are intended to compute the hypothesis test for differences of means between all the pairs of vectors. The first step is the map process, which creates the keys, or values of $i$ and $j$ for these pairs.   \n",
    "\n",
    "> **Exercise 1-2:** You will now create the code for the map task which build a data frame with $i, j$ key pairs indexed by the hash. By the following steps you will create code that represents a map task.  \n",
    "> 1. Create a data frame with two columns $i$ and $j$ with rows $= hash_key * modulo_multiplier $ and set all values to $= numpy.nan$.\n",
    "> 2. Create a loop over all combinations of the pairs of i and j.   \n",
    "> 2. Compute the hash key value for the indexes, i and j.  \n",
    "> 4. Add the $i$ and $j$ values to the row indexed by the hash key.  \n",
    "> 5. Return the hash table. \n",
    "> 6. Execute the function to create the hash table.  \n",
    "> 7. Compute and print the length of the hash table. "
   ]
  },
  {
   "cell_type": "code",
   "execution_count": 6,
   "metadata": {},
   "outputs": [],
   "source": [
    "def map_hypothesis(vars, hash_key=1024, modulo_multiplier=32):\n",
    "    ## Put your code below. \n",
    "    ncolumns = vars.shape[1]\n",
    "    nhash = hash_key * modulo_multiplier \n",
    "    hash_table = pd.DataFrame({'i':[np.nan]*nhash, 'j':[np.nan]*nhash})\n",
    "    for i,j in combinations(range(ncolumns), 2): \n",
    "        ## Put your code below. \n",
    "        ## Compute the hash key and added the values to the \n",
    "        ## row of the data frame. \n",
    "        hash_key = hash_function(i,j)\n",
    "        hash_table.iloc[hash_key,:] = [i,j]\n",
    "    return hash_table\n",
    "\n",
    "hash_table = map_hypothesis(normal_vars)"
   ]
  },
  {
   "cell_type": "markdown",
   "metadata": {},
   "source": [
    "> **End of exercise.**"
   ]
  },
  {
   "cell_type": "markdown",
   "metadata": {},
   "source": [
    "### The shuffle and reduce task\n",
    "\n",
    "Now that you have the keys for the pairwise combinations of the vectors it is time to perform the reduce process. The reduce process computes the pair-wise t-statistics and p-values. These statistical values are indexed by the keys of the pair of vectors. This process reduces the full vectors of values down to just two numbers for each pair of vectors. \n",
    "\n",
    "> **Exercise 1-3:** You will now create and apply the following code for the reduce process:   \n",
    "> 1. Create an empty data frame with columns, `i`, `j`, `t_statistic`, and `p_value`.    \n",
    "> 2. Using a for loop iterate over all possible (hashed) keys of the data frame. An if statement is used to test if these are valid values of the key, i. Use the [numpy.isnan](https://numpy.org/doc/stable/reference/generated/numpy.isnan.html) function for this test.  \n",
    "> 3. Extract the values of i and j from the input data frame. \n",
    "> 4. Using keys, compute the t-statistic and p-value using [scipy.stats import ttest_ind](https://docs.scipy.org/doc/scipy/reference/generated/scipy.stats.ttest_ind.html).\n",
    "> 5. Append a row to the output data frame.\n",
    "> 6. Return the data frame, sorted in ascending order, using the [Pandas.DataFrame.sort_values](https://turned.pydata.org/docs/reference/api/pandas.DataFrame.sort_values.html) method and re-indexed using the [Pandas.DataFrame.reset_index](https://pandas.pydata.org/docs/reference/api/pandas.DataFrame.reset_index.html) method.    \n",
    "> 7. Execute your function and save the returned data frame."
   ]
  },
  {
   "cell_type": "code",
   "execution_count": 7,
   "metadata": {
    "scrolled": false
   },
   "outputs": [],
   "source": [
    "def reduce_significance(hash_table, values):  \n",
    "    ## Create a data framreturn the results of the \n",
    "    ## the reduce process. The results are grouped by the first \n",
    "    ## index i. \n",
    "    test_results = pd.DataFrame(columns=['i','j','t_statistic','p_value'])\n",
    "\n",
    "    ## As a substitute for a shuffle we will use a simple search \n",
    "    ## through the data frame  \n",
    "    for hash in range(hash_table.shape[0]): \n",
    "    ## Put your code below. \n",
    "        if not np.isnan(hash_table.iloc[hash,0]):\n",
    "            i = int(hash_table.iloc[hash,0]) \n",
    "            j = int(hash_table.iloc[hash,1])\n",
    "            \n",
    "    ## Given the i,j pairs we need to compute the t-statistic and the p-value.   \n",
    "    ## This is the reduce step, since for each i,j pair there is only \n",
    "    ## a t-statistic and a p-value. \n",
    "    ## Put your code below. \n",
    "            t_statistic, p_value = ttest_ind(values[:,i],values[:,j])\n",
    "            test_results = test_results.append({'i':i, 'j':j, 't_statistic':t_statistic, 'p_value':p_value}, ignore_index=True)\n",
    "    ## Sort and return the results\n",
    "    #test_results.sort_values('p_value', axis=0, ascending=True# , inplace=True)\n",
    "    return test_results.sort_values('p_value', axis=0, ascending=True).reset_index(drop=True)        \n",
    "        \n",
    "\n",
    "test_stats = reduce_significance(hash_table, normal_vars)       "
   ]
  },
  {
   "cell_type": "code",
   "execution_count": 27,
   "metadata": {},
   "outputs": [
    {
     "data": {
      "text/html": [
       "<div>\n",
       "<style scoped>\n",
       "    .dataframe tbody tr th:only-of-type {\n",
       "        vertical-align: middle;\n",
       "    }\n",
       "\n",
       "    .dataframe tbody tr th {\n",
       "        vertical-align: top;\n",
       "    }\n",
       "\n",
       "    .dataframe thead th {\n",
       "        text-align: right;\n",
       "    }\n",
       "</style>\n",
       "<table border=\"1\" class=\"dataframe\">\n",
       "  <thead>\n",
       "    <tr style=\"text-align: right;\">\n",
       "      <th></th>\n",
       "      <th>i</th>\n",
       "      <th>j</th>\n",
       "      <th>t_statistic</th>\n",
       "      <th>p_value</th>\n",
       "    </tr>\n",
       "  </thead>\n",
       "  <tbody>\n",
       "    <tr>\n",
       "      <th>0</th>\n",
       "      <td>0.0</td>\n",
       "      <td>17.0</td>\n",
       "      <td>-3.992565</td>\n",
       "      <td>0.000068</td>\n",
       "    </tr>\n",
       "    <tr>\n",
       "      <th>1</th>\n",
       "      <td>0.0</td>\n",
       "      <td>8.0</td>\n",
       "      <td>-3.705426</td>\n",
       "      <td>0.000217</td>\n",
       "    </tr>\n",
       "    <tr>\n",
       "      <th>2</th>\n",
       "      <td>0.0</td>\n",
       "      <td>4.0</td>\n",
       "      <td>-3.311203</td>\n",
       "      <td>0.000946</td>\n",
       "    </tr>\n",
       "    <tr>\n",
       "      <th>3</th>\n",
       "      <td>0.0</td>\n",
       "      <td>1.0</td>\n",
       "      <td>-3.227865</td>\n",
       "      <td>0.001267</td>\n",
       "    </tr>\n",
       "    <tr>\n",
       "      <th>4</th>\n",
       "      <td>0.0</td>\n",
       "      <td>16.0</td>\n",
       "      <td>-3.024120</td>\n",
       "      <td>0.002525</td>\n",
       "    </tr>\n",
       "  </tbody>\n",
       "</table>\n",
       "</div>"
      ],
      "text/plain": [
       "     i     j  t_statistic   p_value\n",
       "0  0.0  17.0    -3.992565  0.000068\n",
       "1  0.0   8.0    -3.705426  0.000217\n",
       "2  0.0   4.0    -3.311203  0.000946\n",
       "3  0.0   1.0    -3.227865  0.001267\n",
       "4  0.0  16.0    -3.024120  0.002525"
      ]
     },
     "execution_count": 27,
     "metadata": {},
     "output_type": "execute_result"
    }
   ],
   "source": [
    "test_stats.head()"
   ]
  },
  {
   "cell_type": "markdown",
   "metadata": {},
   "source": [
    "> 8. In the cell below, create a filter for pair test cases which are significant and save these cases in a data frame. \n",
    "> 9. Print the number (len) of significant results.\n",
    "> 10. Print the rows with the significant test results."
   ]
  },
  {
   "cell_type": "code",
   "execution_count": 8,
   "metadata": {
    "scrolled": false
   },
   "outputs": [
    {
     "name": "stdout",
     "output_type": "stream",
     "text": [
      "22\n",
      "       i     j  t_statistic   p_value\n",
      "0    0.0  17.0    -3.992565  0.000068\n",
      "1    0.0   8.0    -3.705426  0.000217\n",
      "2    0.0   4.0    -3.311203  0.000946\n",
      "3    0.0   1.0    -3.227865  0.001267\n",
      "4    0.0  16.0    -3.024120  0.002525\n",
      "5    0.0  13.0    -2.903111  0.003735\n",
      "6    0.0   5.0    -2.872598  0.004114\n",
      "7   11.0  17.0    -2.682146  0.007375\n",
      "8    0.0   7.0    -2.681570  0.007388\n",
      "9    0.0   6.0    -2.624430  0.008746\n",
      "10   0.0  10.0    -2.462400  0.013885\n",
      "11   8.0  11.0     2.422580  0.015499\n",
      "12   0.0   3.0    -2.321463  0.020362\n",
      "13   0.0  14.0    -2.294894  0.021842\n",
      "14   0.0  15.0    -2.291186  0.022056\n",
      "15   0.0  19.0    -2.279797  0.022725\n",
      "16   9.0  17.0    -2.225359  0.026168\n",
      "17   0.0   2.0    -2.212194  0.027066\n",
      "18   0.0  18.0    -2.156647  0.031152\n",
      "19   0.0  12.0    -2.031263  0.042360\n",
      "20   4.0  11.0     2.017791  0.043747\n",
      "21   8.0   9.0     1.980137  0.047825\n"
     ]
    }
   ],
   "source": [
    "significance_level = 0.05\n",
    "## Put your code below. \n",
    "significant_tests = test_stats[test_stats.iloc[:,3] < significance_level]\n",
    "print(len(significant_tests))\n",
    "print(significant_tests)"
   ]
  },
  {
   "cell_type": "markdown",
   "metadata": {},
   "source": [
    "> Notice the large number of apparently significant tests. Answer the following questions:  \n",
    "> 1. Is the number of false positive cases higher than expected?    \n",
    "> 2. Examine which of the iid Normal vectors contribute to the false positive results. Are there vectors which contribute multiple times?   \n",
    "> **End of exercise.**"
   ]
  },
  {
   "cell_type": "markdown",
   "metadata": {},
   "source": [
    "### Bonferroni correction  \n",
    "\n",
    "Several adjustments to the multiple comparisons problem have been proposed. In Dunn published a method know as the **Bonferroni correction** in 1961. The Bonferroni correction is a widely used method to reduce the false positive rate of hypothesis tests.  The adjustment is simple:\n",
    "$$\\alpha_b = \\frac{\\alpha}{m}\\\\\n",
    "with\\\\ \n",
    "m =\\ number\\ of\\ groups$$\n",
    "\n",
    "Can the Bonferroni correction help? Yes, by greatly increasing the confidence level required for a statistically significant result. The problem with the Bonferroni correction is the reduction in power as the  grows smaller. For big data problems with large numbers of groups, this issue can be especially serious. \n",
    "\n",
    "**Exercise 1-4:** You will now apply the Bonferroni correction to the iid Normal vectors. To do so, :   "
   ]
  },
  {
   "cell_type": "code",
   "execution_count": 9,
   "metadata": {},
   "outputs": [
    {
     "data": {
      "text/plain": [
       "2"
      ]
     },
     "execution_count": 9,
     "metadata": {},
     "output_type": "execute_result"
    }
   ],
   "source": [
    "significance_bonferroni = significance_level/190.0\n",
    "significant_tests = test_stats[test_stats.iloc[:,3] < significance_bonferroni]\n",
    "len(significant_tests)            "
   ]
  },
  {
   "cell_type": "markdown",
   "metadata": {},
   "source": [
    "> Even with the Bonferroni correction we have some false significance tests, if only just barely!    \n",
    "> **End of exercise.**\n",
    "\n",
    "But, can we detect small effect with Bonferroni correction, as this method significantly reduces power of tests? Execute the code in the cell below, which compares a standard Normal to a Normal with a small mean (effect size), to find out. "
   ]
  },
  {
   "cell_type": "code",
   "execution_count": 10,
   "metadata": {},
   "outputs": [
    {
     "name": "stdout",
     "output_type": "stream",
     "text": [
      "0.0002631578947368421\n"
     ]
    },
    {
     "data": {
      "text/plain": [
       "Ttest_indResult(statistic=array([-2.49553488]), pvalue=array([0.01265684]))"
      ]
     },
     "execution_count": 10,
     "metadata": {},
     "output_type": "execute_result"
    }
   ],
   "source": [
    "nr.seed(567)\n",
    "print(significance_bonferroni)\n",
    "ttest_ind(normal_vars[:,0], nr.normal(loc = 0.01, size=(1000,1)))"
   ]
  },
  {
   "cell_type": "markdown",
   "metadata": {},
   "source": [
    "Given the Bonferroni correction, this difference in means would not be found significant. This illustrates the downside of the correction, which may prevent detection of significant effects, while still finding false significance. "
   ]
  },
  {
   "cell_type": "markdown",
   "metadata": {},
   "source": [
    "## False Discovery Rate Control Methods \n",
    "\n",
    "We have seen the potential pitfalls of multiple hypothesis testing. Further, we have seen that a simple approach to **false discovery rate (FDR) control** is not effective. You will now apply more sophisticated FDR control methods to control the FDR. \n",
    "\n",
    "The specific problem we will explore is to determine which genes lead to expression of a certain disease. In this example, there are gene expression data for 97 patients. Some of these patients have ulcerative colitis and others have Crohn's disease, which is believed to be genetically inherited.    \n",
    "\n",
    "One approach to this problem is to perform hypothesis tests on the expression of the genes between patients with the two conditions. Since there are over 10,000 genes there is considerable chance for false discovery. Therefore, careful application of FDR control is required.\n",
    "\n",
    "To continue with the example, execute the code in the cell below to load the data and print the dimensionality of the data frame. "
   ]
  },
  {
   "cell_type": "code",
   "execution_count": 13,
   "metadata": {},
   "outputs": [
    {
     "name": "stdout",
     "output_type": "stream",
     "text": [
      "(97, 10498)\n"
     ]
    }
   ],
   "source": [
    "gene_data = pd.read_csv('../data/ColonDiseaseGeneData-Cleaned.csv')\n",
    "print(gene_data.shape)"
   ]
  },
  {
   "cell_type": "markdown",
   "metadata": {},
   "source": [
    "There are data from 97 patients for 10,497 genes. A large number of hypothesis tests are required!     \n",
    "\n",
    "Execute the code in the cell below to view the first 5 columns of the data frame, which includes the expression of the first 4 genes.  "
   ]
  },
  {
   "cell_type": "code",
   "execution_count": 14,
   "metadata": {},
   "outputs": [
    {
     "name": "stdout",
     "output_type": "stream",
     "text": [
      "              Disease State  FAM138F  LOC100133331  LOC100132062  LOC388312\n",
      "0   Ulcerative Colitis (UC)   7.2980        8.5650        8.7778     9.2365\n",
      "1   Ulcerative Colitis (UC)   8.0751        8.3536        8.7785     9.4256\n",
      "2   Ulcerative Colitis (UC)   6.8458        8.8254        9.1960     9.8835\n",
      "3   Ulcerative Colitis (UC)   7.6507        8.1838        8.2845     8.8011\n",
      "4   Ulcerative Colitis (UC)   7.3524        8.4415        8.6630     9.1292\n",
      "5   Ulcerative Colitis (UC)   7.2811        8.4023        8.6892     9.3487\n",
      "6   Ulcerative Colitis (UC)   7.8913        8.8026        8.6892     8.4706\n",
      "7   Ulcerative Colitis (UC)   7.0641        8.5498        8.7145     9.0538\n",
      "8   Ulcerative Colitis (UC)   7.5266        8.8004        9.1334     9.8241\n",
      "9   Ulcerative Colitis (UC)   7.0322        8.8119        9.1838     9.8496\n",
      "10  Ulcerative Colitis (UC)   7.0657        8.6229        8.9592     9.5281\n",
      "11  Ulcerative Colitis (UC)   7.5924        8.5463        9.1006     9.7927\n",
      "12  Ulcerative Colitis (UC)   7.0600        8.7177        9.0183     9.6008\n",
      "13  Ulcerative Colitis (UC)   7.1898        8.9140        9.4450    10.1850\n",
      "14  Ulcerative Colitis (UC)   7.2143        8.5502        8.8953     9.5342\n",
      "15  Ulcerative Colitis (UC)   7.0964        8.7591        9.2912     9.9657\n",
      "16  Ulcerative Colitis (UC)   7.2198        9.2102        9.7642    10.5014\n",
      "17  Ulcerative Colitis (UC)   7.3403        9.4456       10.0189    10.7591\n",
      "18  Ulcerative Colitis (UC)   7.4461        8.5284        8.7357     9.2506\n",
      "19  Ulcerative Colitis (UC)   7.3455        8.6927        9.0602     9.7192\n",
      "20  Ulcerative Colitis (UC)   7.0880        8.2631        8.4369     8.8794\n",
      "21  Ulcerative Colitis (UC)   7.2825        8.7345        9.1484     9.7872\n",
      "22  Ulcerative Colitis (UC)   7.1724        8.3719        8.7555     9.4038\n",
      "23  Ulcerative Colitis (UC)   6.8806        8.5305        8.8483     9.3340\n",
      "24     Crohn's Disease (CD)   7.2068        8.7216        8.9883     9.4779\n",
      "25     Crohn's Disease (CD)   7.8298        8.9175        9.1842     9.6337\n",
      "26     Crohn's Disease (CD)   7.2091        8.9301        9.2968     9.8979\n",
      "27     Crohn's Disease (CD)   7.0550        8.5439        8.8213     9.4340\n",
      "28     Crohn's Disease (CD)   7.1302        8.4071        8.6142     9.0457\n",
      "29     Crohn's Disease (CD)   7.5896        8.6109        8.8517     9.3895\n",
      "30     Crohn's Disease (CD)   7.1414        8.5179        8.7155     9.1508\n",
      "31     Crohn's Disease (CD)   7.5786        8.5027        8.6525     8.9109\n",
      "32     Crohn's Disease (CD)   7.3579        8.4111        8.6590     9.1606\n",
      "33     Crohn's Disease (CD)   7.2707        8.4076        8.8388     9.4837\n",
      "34     Crohn's Disease (CD)   8.0351        8.0996        8.1967     8.6139\n",
      "35     Crohn's Disease (CD)   7.5432        8.3209        8.6573     9.2815\n",
      "36     Crohn's Disease (CD)   7.1810        8.2516        8.4162     8.9155\n",
      "37     Crohn's Disease (CD)   7.5264        8.7270        9.0187     9.5883\n",
      "38     Crohn's Disease (CD)   7.3716        8.4931        8.7526     9.2896\n",
      "39     Crohn's Disease (CD)   7.4850        8.3430        8.5856     9.1303\n",
      "40     Crohn's Disease (CD)   7.4165        8.2109        8.3940     8.8056\n",
      "41     Crohn's Disease (CD)   6.9773        8.3712        8.7869     9.4372\n",
      "42     Crohn's Disease (CD)   7.8786        8.1959        8.5050     9.0982\n",
      "43     Crohn's Disease (CD)   7.5083        8.5155        8.7980     9.3524\n",
      "44     Crohn's Disease (CD)   7.0880        8.4385        8.8253     9.4505\n",
      "45     Crohn's Disease (CD)   6.8838        8.4538        8.7470     9.2828\n",
      "46     Crohn's Disease (CD)   6.8119        8.3748        8.5175     8.9693\n",
      "47     Crohn's Disease (CD)   7.2496        8.9122        9.4422    10.1554\n",
      "48     Crohn's Disease (CD)   6.8267        8.9778        9.3882    10.0778\n",
      "49     Crohn's Disease (CD)   7.0636        9.4644       10.0785    10.8549\n",
      "50     Crohn's Disease (CD)   7.6835        9.3493        9.8959    10.6338\n",
      "51     Crohn's Disease (CD)   7.2210        8.7814        9.1714     9.8162\n",
      "52     Crohn's Disease (CD)   6.8487        8.8734        9.2340     9.8769\n",
      "53     Crohn's Disease (CD)   7.5918        8.2312        8.5544     9.1008\n",
      "54     Crohn's Disease (CD)   7.1678        8.1288        8.3662     8.9679\n",
      "55     Crohn's Disease (CD)   7.3017        9.2388        9.7731    10.5605\n",
      "56     Crohn's Disease (CD)   7.1610        9.7806       10.4121    11.2396\n",
      "57     Crohn's Disease (CD)   7.2261        9.3428        9.8967    10.6759\n",
      "58     Crohn's Disease (CD)   7.1593        9.3831        9.8278    10.5998\n",
      "59     Crohn's Disease (CD)   7.1019        8.3430        8.5420     8.9747\n",
      "60     Crohn's Disease (CD)   7.3116        8.4065        8.4365     8.6799\n",
      "61     Crohn's Disease (CD)   7.8494        8.3663        8.7258     9.3271\n",
      "62     Crohn's Disease (CD)   7.2701        8.4757        8.8142     9.3429\n",
      "63     Crohn's Disease (CD)   7.5647        8.8474        9.1067     9.6523\n",
      "64     Crohn's Disease (CD)   7.2515        8.6235        8.8586     9.3837\n",
      "65     Crohn's Disease (CD)   7.1507        8.8505        9.3616    10.0741\n",
      "66     Crohn's Disease (CD)   7.4678        8.3267        8.4853     8.8199\n",
      "67     Crohn's Disease (CD)   7.5946        8.6988        9.0260     9.5730\n",
      "68     Crohn's Disease (CD)   7.4190        8.4272        8.7151     9.3093\n",
      "69     Crohn's Disease (CD)   7.1283        8.6103        9.0461     9.6250\n",
      "70     Crohn's Disease (CD)   7.1075        8.6806        9.0847     9.6714\n",
      "71     Crohn's Disease (CD)   7.5319        8.8390        9.2998     9.9908\n",
      "72     Crohn's Disease (CD)   7.4337        8.1981        8.4922     9.0470\n",
      "73     Crohn's Disease (CD)   6.8102        8.4159        8.7216     9.2068\n",
      "74     Crohn's Disease (CD)   6.7455        8.4007        8.6120     9.0240\n",
      "75     Crohn's Disease (CD)   7.4960        9.1633        9.4830    10.0791\n",
      "76     Crohn's Disease (CD)   7.2845        8.9434        9.1429     9.6071\n",
      "77     Crohn's Disease (CD)   7.0643        8.2883        8.6007     9.1311\n",
      "78     Crohn's Disease (CD)   7.3322        8.6903        9.0542     9.6266\n",
      "79     Crohn's Disease (CD)   7.2334        8.4386        8.6074     9.0808\n",
      "80     Crohn's Disease (CD)   7.1355        8.1473        8.4648     9.0846\n",
      "81     Crohn's Disease (CD)   7.3307        8.6789        9.1033     9.6172\n",
      "82     Crohn's Disease (CD)   7.3263        8.6000        8.7555     9.1330\n",
      "83     Crohn's Disease (CD)   7.5301        8.5545        8.6041     8.8550\n",
      "84     Crohn's Disease (CD)   7.2411        8.5200        8.9117     9.4735\n",
      "85     Crohn's Disease (CD)   7.7174        8.6790        8.9892     9.5009\n",
      "86     Crohn's Disease (CD)   7.8088        8.7493        8.9242     9.2937\n",
      "87     Crohn's Disease (CD)   6.8142        9.1015        9.6005    10.3573\n",
      "88     Crohn's Disease (CD)   7.0029        8.8982        9.1675     9.7203\n",
      "89     Crohn's Disease (CD)   7.1317        8.5958        8.9374     9.6554\n",
      "90     Crohn's Disease (CD)   7.2842        8.9521        9.2933     9.8822\n",
      "91     Crohn's Disease (CD)   7.0717        8.7461        9.1679     9.7870\n",
      "92     Crohn's Disease (CD)   7.3420        8.3204        8.5116     8.9684\n",
      "93     Crohn's Disease (CD)   6.6286        9.7240       10.2898    11.1171\n",
      "94     Crohn's Disease (CD)   6.7240        9.5739       10.2080    11.0556\n",
      "95     Crohn's Disease (CD)   7.5894        9.7265       10.3238    11.1514\n",
      "96     Crohn's Disease (CD)   7.4378        8.8964        9.3807    10.1370\n"
     ]
    }
   ],
   "source": [
    " print(gene_data.iloc[:,:5])      "
   ]
  },
  {
   "cell_type": "markdown",
   "metadata": {},
   "source": [
    "### Holm's method\n",
    "\n",
    "You will apply two FDR control methods to these data.These methods attempt to conod trol the FDR while not being overly conservative like the Bonferronic correction. The first of these Holm's method.    \n",
    "\n",
    "The Holm's method operates on the ordered set of p-values, $D = \\{ p_{(1)}, p_{(2)}, p_{(3)}, \\ldots, p_{(n)} \\}$. The threshold for the $ith$ p-value, $p(i) is:  \n",
    "\n",
    "$$p(i) \\le Threshold(Holm's) = \\frac{\\alpha}{N - i + 1}$$\n",
    "\n",
    "For example: for the 10th ordered p-value with 1,000 total tests (genes) and significance level of 0.05, the cutoff is:   \n",
    "\n",
    "$$p(10) \\le \\frac{0.05}{1000 - 10 + 1} = 0.00005045$$"
   ]
  },
  {
   "cell_type": "markdown",
   "metadata": {},
   "source": [
    "### Map process  \n",
    "\n",
    "> **Exercise 01-4:** To start the processing of these data you will first create and execute code for a map process. The map process groups the data by the patient's disease into data frame, ulcerative, crohns. The keys for each of these key-value pairs are the gene identifier. Notice that one key is all that is needed in this case. Now do the following to create and execute a function, `map_gene`:   \n",
    "> 1. Create a logical mask and group the values by `Disease State` into two data frames.\n",
    "> 2. Return the transpose of the two data frames, removing the `Disease State` values. The result of this operation should be data frames with gene expressions in the columns and the gene identifier as the row index. "
   ]
  },
  {
   "cell_type": "code",
   "execution_count": 15,
   "metadata": {},
   "outputs": [],
   "source": [
    "def map_gene(gene_data):  \n",
    "    ## First, separate the columns by disease type  \n",
    "    ## Put your code below. \n",
    "    mask = gene_data.loc[:,'Disease State'] == 'Ulcerative Colitis (UC)'\n",
    "    ulcerative = gene_data[mask]\n",
    "    crohns = gene_data[np.logical_not(mask)]\n",
    "    return ulcerative.iloc[:,1:].transpose(), crohns.iloc[:,1:].transpose()\n",
    "    \n",
    "ulcerative, crohns = map_gene(gene_data)    "
   ]
  },
  {
   "cell_type": "markdown",
   "metadata": {},
   "source": [
    "> 3. Execute the code in the cells below to display the heads of these data frames and examine the results. "
   ]
  },
  {
   "cell_type": "code",
   "execution_count": 16,
   "metadata": {},
   "outputs": [
    {
     "data": {
      "text/html": [
       "<div>\n",
       "<style scoped>\n",
       "    .dataframe tbody tr th:only-of-type {\n",
       "        vertical-align: middle;\n",
       "    }\n",
       "\n",
       "    .dataframe tbody tr th {\n",
       "        vertical-align: top;\n",
       "    }\n",
       "\n",
       "    .dataframe thead th {\n",
       "        text-align: right;\n",
       "    }\n",
       "</style>\n",
       "<table border=\"1\" class=\"dataframe\">\n",
       "  <thead>\n",
       "    <tr style=\"text-align: right;\">\n",
       "      <th></th>\n",
       "      <th>0</th>\n",
       "      <th>1</th>\n",
       "      <th>2</th>\n",
       "      <th>3</th>\n",
       "      <th>4</th>\n",
       "      <th>5</th>\n",
       "      <th>6</th>\n",
       "      <th>7</th>\n",
       "      <th>8</th>\n",
       "      <th>9</th>\n",
       "      <th>10</th>\n",
       "      <th>11</th>\n",
       "      <th>12</th>\n",
       "      <th>13</th>\n",
       "      <th>14</th>\n",
       "      <th>15</th>\n",
       "      <th>16</th>\n",
       "      <th>17</th>\n",
       "      <th>18</th>\n",
       "      <th>19</th>\n",
       "      <th>20</th>\n",
       "      <th>21</th>\n",
       "      <th>22</th>\n",
       "      <th>23</th>\n",
       "    </tr>\n",
       "  </thead>\n",
       "  <tbody>\n",
       "    <tr>\n",
       "      <th>FAM138F</th>\n",
       "      <td>7.2980</td>\n",
       "      <td>8.0751</td>\n",
       "      <td>6.8458</td>\n",
       "      <td>7.6507</td>\n",
       "      <td>7.3524</td>\n",
       "      <td>7.2811</td>\n",
       "      <td>7.8913</td>\n",
       "      <td>7.0641</td>\n",
       "      <td>7.5266</td>\n",
       "      <td>7.0322</td>\n",
       "      <td>7.0657</td>\n",
       "      <td>7.5924</td>\n",
       "      <td>7.0600</td>\n",
       "      <td>7.1898</td>\n",
       "      <td>7.2143</td>\n",
       "      <td>7.0964</td>\n",
       "      <td>7.2198</td>\n",
       "      <td>7.3403</td>\n",
       "      <td>7.4461</td>\n",
       "      <td>7.3455</td>\n",
       "      <td>7.0880</td>\n",
       "      <td>7.2825</td>\n",
       "      <td>7.1724</td>\n",
       "      <td>6.8806</td>\n",
       "    </tr>\n",
       "    <tr>\n",
       "      <th>LOC100133331</th>\n",
       "      <td>8.5650</td>\n",
       "      <td>8.3536</td>\n",
       "      <td>8.8254</td>\n",
       "      <td>8.1838</td>\n",
       "      <td>8.4415</td>\n",
       "      <td>8.4023</td>\n",
       "      <td>8.8026</td>\n",
       "      <td>8.5498</td>\n",
       "      <td>8.8004</td>\n",
       "      <td>8.8119</td>\n",
       "      <td>8.6229</td>\n",
       "      <td>8.5463</td>\n",
       "      <td>8.7177</td>\n",
       "      <td>8.9140</td>\n",
       "      <td>8.5502</td>\n",
       "      <td>8.7591</td>\n",
       "      <td>9.2102</td>\n",
       "      <td>9.4456</td>\n",
       "      <td>8.5284</td>\n",
       "      <td>8.6927</td>\n",
       "      <td>8.2631</td>\n",
       "      <td>8.7345</td>\n",
       "      <td>8.3719</td>\n",
       "      <td>8.5305</td>\n",
       "    </tr>\n",
       "    <tr>\n",
       "      <th>LOC100132062</th>\n",
       "      <td>8.7778</td>\n",
       "      <td>8.7785</td>\n",
       "      <td>9.1960</td>\n",
       "      <td>8.2845</td>\n",
       "      <td>8.6630</td>\n",
       "      <td>8.6892</td>\n",
       "      <td>8.6892</td>\n",
       "      <td>8.7145</td>\n",
       "      <td>9.1334</td>\n",
       "      <td>9.1838</td>\n",
       "      <td>8.9592</td>\n",
       "      <td>9.1006</td>\n",
       "      <td>9.0183</td>\n",
       "      <td>9.4450</td>\n",
       "      <td>8.8953</td>\n",
       "      <td>9.2912</td>\n",
       "      <td>9.7642</td>\n",
       "      <td>10.0189</td>\n",
       "      <td>8.7357</td>\n",
       "      <td>9.0602</td>\n",
       "      <td>8.4369</td>\n",
       "      <td>9.1484</td>\n",
       "      <td>8.7555</td>\n",
       "      <td>8.8483</td>\n",
       "    </tr>\n",
       "    <tr>\n",
       "      <th>LOC388312</th>\n",
       "      <td>9.2365</td>\n",
       "      <td>9.4256</td>\n",
       "      <td>9.8835</td>\n",
       "      <td>8.8011</td>\n",
       "      <td>9.1292</td>\n",
       "      <td>9.3487</td>\n",
       "      <td>8.4706</td>\n",
       "      <td>9.0538</td>\n",
       "      <td>9.8241</td>\n",
       "      <td>9.8496</td>\n",
       "      <td>9.5281</td>\n",
       "      <td>9.7927</td>\n",
       "      <td>9.6008</td>\n",
       "      <td>10.1850</td>\n",
       "      <td>9.5342</td>\n",
       "      <td>9.9657</td>\n",
       "      <td>10.5014</td>\n",
       "      <td>10.7591</td>\n",
       "      <td>9.2506</td>\n",
       "      <td>9.7192</td>\n",
       "      <td>8.8794</td>\n",
       "      <td>9.7872</td>\n",
       "      <td>9.4038</td>\n",
       "      <td>9.3340</td>\n",
       "    </tr>\n",
       "    <tr>\n",
       "      <th>BC016143</th>\n",
       "      <td>7.3570</td>\n",
       "      <td>7.4431</td>\n",
       "      <td>7.5415</td>\n",
       "      <td>7.7199</td>\n",
       "      <td>7.4482</td>\n",
       "      <td>7.4577</td>\n",
       "      <td>8.6198</td>\n",
       "      <td>7.9258</td>\n",
       "      <td>7.4278</td>\n",
       "      <td>7.8487</td>\n",
       "      <td>7.3141</td>\n",
       "      <td>7.3871</td>\n",
       "      <td>7.5602</td>\n",
       "      <td>7.3844</td>\n",
       "      <td>7.2356</td>\n",
       "      <td>8.1990</td>\n",
       "      <td>7.4642</td>\n",
       "      <td>7.4081</td>\n",
       "      <td>7.7304</td>\n",
       "      <td>7.5309</td>\n",
       "      <td>7.9830</td>\n",
       "      <td>7.9588</td>\n",
       "      <td>7.5957</td>\n",
       "      <td>7.4893</td>\n",
       "    </tr>\n",
       "  </tbody>\n",
       "</table>\n",
       "</div>"
      ],
      "text/plain": [
       "                  0       1       2       3       4       5       6       7   \\\n",
       "FAM138F       7.2980  8.0751  6.8458  7.6507  7.3524  7.2811  7.8913  7.0641   \n",
       "LOC100133331  8.5650  8.3536  8.8254  8.1838  8.4415  8.4023  8.8026  8.5498   \n",
       "LOC100132062  8.7778  8.7785  9.1960  8.2845  8.6630  8.6892  8.6892  8.7145   \n",
       "LOC388312     9.2365  9.4256  9.8835  8.8011  9.1292  9.3487  8.4706  9.0538   \n",
       "BC016143      7.3570  7.4431  7.5415  7.7199  7.4482  7.4577  8.6198  7.9258   \n",
       "\n",
       "                  8       9       10      11      12       13      14      15  \\\n",
       "FAM138F       7.5266  7.0322  7.0657  7.5924  7.0600   7.1898  7.2143  7.0964   \n",
       "LOC100133331  8.8004  8.8119  8.6229  8.5463  8.7177   8.9140  8.5502  8.7591   \n",
       "LOC100132062  9.1334  9.1838  8.9592  9.1006  9.0183   9.4450  8.8953  9.2912   \n",
       "LOC388312     9.8241  9.8496  9.5281  9.7927  9.6008  10.1850  9.5342  9.9657   \n",
       "BC016143      7.4278  7.8487  7.3141  7.3871  7.5602   7.3844  7.2356  8.1990   \n",
       "\n",
       "                   16       17      18      19      20      21      22      23  \n",
       "FAM138F        7.2198   7.3403  7.4461  7.3455  7.0880  7.2825  7.1724  6.8806  \n",
       "LOC100133331   9.2102   9.4456  8.5284  8.6927  8.2631  8.7345  8.3719  8.5305  \n",
       "LOC100132062   9.7642  10.0189  8.7357  9.0602  8.4369  9.1484  8.7555  8.8483  \n",
       "LOC388312     10.5014  10.7591  9.2506  9.7192  8.8794  9.7872  9.4038  9.3340  \n",
       "BC016143       7.4642   7.4081  7.7304  7.5309  7.9830  7.9588  7.5957  7.4893  "
      ]
     },
     "execution_count": 16,
     "metadata": {},
     "output_type": "execute_result"
    }
   ],
   "source": [
    "ulcerative.head()"
   ]
  },
  {
   "cell_type": "code",
   "execution_count": 17,
   "metadata": {},
   "outputs": [
    {
     "data": {
      "text/html": [
       "<div>\n",
       "<style scoped>\n",
       "    .dataframe tbody tr th:only-of-type {\n",
       "        vertical-align: middle;\n",
       "    }\n",
       "\n",
       "    .dataframe tbody tr th {\n",
       "        vertical-align: top;\n",
       "    }\n",
       "\n",
       "    .dataframe thead th {\n",
       "        text-align: right;\n",
       "    }\n",
       "</style>\n",
       "<table border=\"1\" class=\"dataframe\">\n",
       "  <thead>\n",
       "    <tr style=\"text-align: right;\">\n",
       "      <th></th>\n",
       "      <th>24</th>\n",
       "      <th>25</th>\n",
       "      <th>26</th>\n",
       "      <th>27</th>\n",
       "      <th>28</th>\n",
       "      <th>29</th>\n",
       "      <th>30</th>\n",
       "      <th>31</th>\n",
       "      <th>32</th>\n",
       "      <th>33</th>\n",
       "      <th>34</th>\n",
       "      <th>35</th>\n",
       "      <th>36</th>\n",
       "      <th>37</th>\n",
       "      <th>38</th>\n",
       "      <th>39</th>\n",
       "      <th>40</th>\n",
       "      <th>41</th>\n",
       "      <th>42</th>\n",
       "      <th>43</th>\n",
       "      <th>44</th>\n",
       "      <th>45</th>\n",
       "      <th>46</th>\n",
       "      <th>47</th>\n",
       "      <th>48</th>\n",
       "      <th>49</th>\n",
       "      <th>50</th>\n",
       "      <th>51</th>\n",
       "      <th>52</th>\n",
       "      <th>53</th>\n",
       "      <th>54</th>\n",
       "      <th>55</th>\n",
       "      <th>56</th>\n",
       "      <th>57</th>\n",
       "      <th>58</th>\n",
       "      <th>59</th>\n",
       "      <th>60</th>\n",
       "      <th>61</th>\n",
       "      <th>62</th>\n",
       "      <th>63</th>\n",
       "      <th>64</th>\n",
       "      <th>65</th>\n",
       "      <th>66</th>\n",
       "      <th>67</th>\n",
       "      <th>68</th>\n",
       "      <th>69</th>\n",
       "      <th>70</th>\n",
       "      <th>71</th>\n",
       "      <th>72</th>\n",
       "      <th>73</th>\n",
       "      <th>74</th>\n",
       "      <th>75</th>\n",
       "      <th>76</th>\n",
       "      <th>77</th>\n",
       "      <th>78</th>\n",
       "      <th>79</th>\n",
       "      <th>80</th>\n",
       "      <th>81</th>\n",
       "      <th>82</th>\n",
       "      <th>83</th>\n",
       "      <th>84</th>\n",
       "      <th>85</th>\n",
       "      <th>86</th>\n",
       "      <th>87</th>\n",
       "      <th>88</th>\n",
       "      <th>89</th>\n",
       "      <th>90</th>\n",
       "      <th>91</th>\n",
       "      <th>92</th>\n",
       "      <th>93</th>\n",
       "      <th>94</th>\n",
       "      <th>95</th>\n",
       "      <th>96</th>\n",
       "    </tr>\n",
       "  </thead>\n",
       "  <tbody>\n",
       "    <tr>\n",
       "      <th>FAM138F</th>\n",
       "      <td>7.2068</td>\n",
       "      <td>7.8298</td>\n",
       "      <td>7.2091</td>\n",
       "      <td>7.0550</td>\n",
       "      <td>7.1302</td>\n",
       "      <td>7.5896</td>\n",
       "      <td>7.1414</td>\n",
       "      <td>7.5786</td>\n",
       "      <td>7.3579</td>\n",
       "      <td>7.2707</td>\n",
       "      <td>8.0351</td>\n",
       "      <td>7.5432</td>\n",
       "      <td>7.1810</td>\n",
       "      <td>7.5264</td>\n",
       "      <td>7.3716</td>\n",
       "      <td>7.4850</td>\n",
       "      <td>7.4165</td>\n",
       "      <td>6.9773</td>\n",
       "      <td>7.8786</td>\n",
       "      <td>7.5083</td>\n",
       "      <td>7.0880</td>\n",
       "      <td>6.8838</td>\n",
       "      <td>6.8119</td>\n",
       "      <td>7.2496</td>\n",
       "      <td>6.8267</td>\n",
       "      <td>7.0636</td>\n",
       "      <td>7.6835</td>\n",
       "      <td>7.2210</td>\n",
       "      <td>6.8487</td>\n",
       "      <td>7.5918</td>\n",
       "      <td>7.1678</td>\n",
       "      <td>7.3017</td>\n",
       "      <td>7.1610</td>\n",
       "      <td>7.2261</td>\n",
       "      <td>7.1593</td>\n",
       "      <td>7.1019</td>\n",
       "      <td>7.3116</td>\n",
       "      <td>7.8494</td>\n",
       "      <td>7.2701</td>\n",
       "      <td>7.5647</td>\n",
       "      <td>7.2515</td>\n",
       "      <td>7.1507</td>\n",
       "      <td>7.4678</td>\n",
       "      <td>7.5946</td>\n",
       "      <td>7.4190</td>\n",
       "      <td>7.1283</td>\n",
       "      <td>7.1075</td>\n",
       "      <td>7.5319</td>\n",
       "      <td>7.4337</td>\n",
       "      <td>6.8102</td>\n",
       "      <td>6.7455</td>\n",
       "      <td>7.4960</td>\n",
       "      <td>7.2845</td>\n",
       "      <td>7.0643</td>\n",
       "      <td>7.3322</td>\n",
       "      <td>7.2334</td>\n",
       "      <td>7.1355</td>\n",
       "      <td>7.3307</td>\n",
       "      <td>7.3263</td>\n",
       "      <td>7.5301</td>\n",
       "      <td>7.2411</td>\n",
       "      <td>7.7174</td>\n",
       "      <td>7.8088</td>\n",
       "      <td>6.8142</td>\n",
       "      <td>7.0029</td>\n",
       "      <td>7.1317</td>\n",
       "      <td>7.2842</td>\n",
       "      <td>7.0717</td>\n",
       "      <td>7.3420</td>\n",
       "      <td>6.6286</td>\n",
       "      <td>6.7240</td>\n",
       "      <td>7.5894</td>\n",
       "      <td>7.4378</td>\n",
       "    </tr>\n",
       "    <tr>\n",
       "      <th>LOC100133331</th>\n",
       "      <td>8.7216</td>\n",
       "      <td>8.9175</td>\n",
       "      <td>8.9301</td>\n",
       "      <td>8.5439</td>\n",
       "      <td>8.4071</td>\n",
       "      <td>8.6109</td>\n",
       "      <td>8.5179</td>\n",
       "      <td>8.5027</td>\n",
       "      <td>8.4111</td>\n",
       "      <td>8.4076</td>\n",
       "      <td>8.0996</td>\n",
       "      <td>8.3209</td>\n",
       "      <td>8.2516</td>\n",
       "      <td>8.7270</td>\n",
       "      <td>8.4931</td>\n",
       "      <td>8.3430</td>\n",
       "      <td>8.2109</td>\n",
       "      <td>8.3712</td>\n",
       "      <td>8.1959</td>\n",
       "      <td>8.5155</td>\n",
       "      <td>8.4385</td>\n",
       "      <td>8.4538</td>\n",
       "      <td>8.3748</td>\n",
       "      <td>8.9122</td>\n",
       "      <td>8.9778</td>\n",
       "      <td>9.4644</td>\n",
       "      <td>9.3493</td>\n",
       "      <td>8.7814</td>\n",
       "      <td>8.8734</td>\n",
       "      <td>8.2312</td>\n",
       "      <td>8.1288</td>\n",
       "      <td>9.2388</td>\n",
       "      <td>9.7806</td>\n",
       "      <td>9.3428</td>\n",
       "      <td>9.3831</td>\n",
       "      <td>8.3430</td>\n",
       "      <td>8.4065</td>\n",
       "      <td>8.3663</td>\n",
       "      <td>8.4757</td>\n",
       "      <td>8.8474</td>\n",
       "      <td>8.6235</td>\n",
       "      <td>8.8505</td>\n",
       "      <td>8.3267</td>\n",
       "      <td>8.6988</td>\n",
       "      <td>8.4272</td>\n",
       "      <td>8.6103</td>\n",
       "      <td>8.6806</td>\n",
       "      <td>8.8390</td>\n",
       "      <td>8.1981</td>\n",
       "      <td>8.4159</td>\n",
       "      <td>8.4007</td>\n",
       "      <td>9.1633</td>\n",
       "      <td>8.9434</td>\n",
       "      <td>8.2883</td>\n",
       "      <td>8.6903</td>\n",
       "      <td>8.4386</td>\n",
       "      <td>8.1473</td>\n",
       "      <td>8.6789</td>\n",
       "      <td>8.6000</td>\n",
       "      <td>8.5545</td>\n",
       "      <td>8.5200</td>\n",
       "      <td>8.6790</td>\n",
       "      <td>8.7493</td>\n",
       "      <td>9.1015</td>\n",
       "      <td>8.8982</td>\n",
       "      <td>8.5958</td>\n",
       "      <td>8.9521</td>\n",
       "      <td>8.7461</td>\n",
       "      <td>8.3204</td>\n",
       "      <td>9.7240</td>\n",
       "      <td>9.5739</td>\n",
       "      <td>9.7265</td>\n",
       "      <td>8.8964</td>\n",
       "    </tr>\n",
       "    <tr>\n",
       "      <th>LOC100132062</th>\n",
       "      <td>8.9883</td>\n",
       "      <td>9.1842</td>\n",
       "      <td>9.2968</td>\n",
       "      <td>8.8213</td>\n",
       "      <td>8.6142</td>\n",
       "      <td>8.8517</td>\n",
       "      <td>8.7155</td>\n",
       "      <td>8.6525</td>\n",
       "      <td>8.6590</td>\n",
       "      <td>8.8388</td>\n",
       "      <td>8.1967</td>\n",
       "      <td>8.6573</td>\n",
       "      <td>8.4162</td>\n",
       "      <td>9.0187</td>\n",
       "      <td>8.7526</td>\n",
       "      <td>8.5856</td>\n",
       "      <td>8.3940</td>\n",
       "      <td>8.7869</td>\n",
       "      <td>8.5050</td>\n",
       "      <td>8.7980</td>\n",
       "      <td>8.8253</td>\n",
       "      <td>8.7470</td>\n",
       "      <td>8.5175</td>\n",
       "      <td>9.4422</td>\n",
       "      <td>9.3882</td>\n",
       "      <td>10.0785</td>\n",
       "      <td>9.8959</td>\n",
       "      <td>9.1714</td>\n",
       "      <td>9.2340</td>\n",
       "      <td>8.5544</td>\n",
       "      <td>8.3662</td>\n",
       "      <td>9.7731</td>\n",
       "      <td>10.4121</td>\n",
       "      <td>9.8967</td>\n",
       "      <td>9.8278</td>\n",
       "      <td>8.5420</td>\n",
       "      <td>8.4365</td>\n",
       "      <td>8.7258</td>\n",
       "      <td>8.8142</td>\n",
       "      <td>9.1067</td>\n",
       "      <td>8.8586</td>\n",
       "      <td>9.3616</td>\n",
       "      <td>8.4853</td>\n",
       "      <td>9.0260</td>\n",
       "      <td>8.7151</td>\n",
       "      <td>9.0461</td>\n",
       "      <td>9.0847</td>\n",
       "      <td>9.2998</td>\n",
       "      <td>8.4922</td>\n",
       "      <td>8.7216</td>\n",
       "      <td>8.6120</td>\n",
       "      <td>9.4830</td>\n",
       "      <td>9.1429</td>\n",
       "      <td>8.6007</td>\n",
       "      <td>9.0542</td>\n",
       "      <td>8.6074</td>\n",
       "      <td>8.4648</td>\n",
       "      <td>9.1033</td>\n",
       "      <td>8.7555</td>\n",
       "      <td>8.6041</td>\n",
       "      <td>8.9117</td>\n",
       "      <td>8.9892</td>\n",
       "      <td>8.9242</td>\n",
       "      <td>9.6005</td>\n",
       "      <td>9.1675</td>\n",
       "      <td>8.9374</td>\n",
       "      <td>9.2933</td>\n",
       "      <td>9.1679</td>\n",
       "      <td>8.5116</td>\n",
       "      <td>10.2898</td>\n",
       "      <td>10.2080</td>\n",
       "      <td>10.3238</td>\n",
       "      <td>9.3807</td>\n",
       "    </tr>\n",
       "    <tr>\n",
       "      <th>LOC388312</th>\n",
       "      <td>9.4779</td>\n",
       "      <td>9.6337</td>\n",
       "      <td>9.8979</td>\n",
       "      <td>9.4340</td>\n",
       "      <td>9.0457</td>\n",
       "      <td>9.3895</td>\n",
       "      <td>9.1508</td>\n",
       "      <td>8.9109</td>\n",
       "      <td>9.1606</td>\n",
       "      <td>9.4837</td>\n",
       "      <td>8.6139</td>\n",
       "      <td>9.2815</td>\n",
       "      <td>8.9155</td>\n",
       "      <td>9.5883</td>\n",
       "      <td>9.2896</td>\n",
       "      <td>9.1303</td>\n",
       "      <td>8.8056</td>\n",
       "      <td>9.4372</td>\n",
       "      <td>9.0982</td>\n",
       "      <td>9.3524</td>\n",
       "      <td>9.4505</td>\n",
       "      <td>9.2828</td>\n",
       "      <td>8.9693</td>\n",
       "      <td>10.1554</td>\n",
       "      <td>10.0778</td>\n",
       "      <td>10.8549</td>\n",
       "      <td>10.6338</td>\n",
       "      <td>9.8162</td>\n",
       "      <td>9.8769</td>\n",
       "      <td>9.1008</td>\n",
       "      <td>8.9679</td>\n",
       "      <td>10.5605</td>\n",
       "      <td>11.2396</td>\n",
       "      <td>10.6759</td>\n",
       "      <td>10.5998</td>\n",
       "      <td>8.9747</td>\n",
       "      <td>8.6799</td>\n",
       "      <td>9.3271</td>\n",
       "      <td>9.3429</td>\n",
       "      <td>9.6523</td>\n",
       "      <td>9.3837</td>\n",
       "      <td>10.0741</td>\n",
       "      <td>8.8199</td>\n",
       "      <td>9.5730</td>\n",
       "      <td>9.3093</td>\n",
       "      <td>9.6250</td>\n",
       "      <td>9.6714</td>\n",
       "      <td>9.9908</td>\n",
       "      <td>9.0470</td>\n",
       "      <td>9.2068</td>\n",
       "      <td>9.0240</td>\n",
       "      <td>10.0791</td>\n",
       "      <td>9.6071</td>\n",
       "      <td>9.1311</td>\n",
       "      <td>9.6266</td>\n",
       "      <td>9.0808</td>\n",
       "      <td>9.0846</td>\n",
       "      <td>9.6172</td>\n",
       "      <td>9.1330</td>\n",
       "      <td>8.8550</td>\n",
       "      <td>9.4735</td>\n",
       "      <td>9.5009</td>\n",
       "      <td>9.2937</td>\n",
       "      <td>10.3573</td>\n",
       "      <td>9.7203</td>\n",
       "      <td>9.6554</td>\n",
       "      <td>9.8822</td>\n",
       "      <td>9.7870</td>\n",
       "      <td>8.9684</td>\n",
       "      <td>11.1171</td>\n",
       "      <td>11.0556</td>\n",
       "      <td>11.1514</td>\n",
       "      <td>10.1370</td>\n",
       "    </tr>\n",
       "    <tr>\n",
       "      <th>BC016143</th>\n",
       "      <td>8.0481</td>\n",
       "      <td>8.1224</td>\n",
       "      <td>7.8660</td>\n",
       "      <td>7.4640</td>\n",
       "      <td>7.7226</td>\n",
       "      <td>7.4770</td>\n",
       "      <td>7.7176</td>\n",
       "      <td>8.1704</td>\n",
       "      <td>7.8795</td>\n",
       "      <td>7.4256</td>\n",
       "      <td>7.6490</td>\n",
       "      <td>7.5086</td>\n",
       "      <td>7.3649</td>\n",
       "      <td>7.5547</td>\n",
       "      <td>7.4353</td>\n",
       "      <td>7.2359</td>\n",
       "      <td>7.6896</td>\n",
       "      <td>7.3325</td>\n",
       "      <td>7.5772</td>\n",
       "      <td>8.0188</td>\n",
       "      <td>7.7060</td>\n",
       "      <td>7.5093</td>\n",
       "      <td>7.4226</td>\n",
       "      <td>7.3826</td>\n",
       "      <td>7.4499</td>\n",
       "      <td>7.6519</td>\n",
       "      <td>7.3737</td>\n",
       "      <td>7.5800</td>\n",
       "      <td>7.5518</td>\n",
       "      <td>7.6202</td>\n",
       "      <td>7.3509</td>\n",
       "      <td>7.6288</td>\n",
       "      <td>7.8099</td>\n",
       "      <td>7.5718</td>\n",
       "      <td>7.6041</td>\n",
       "      <td>7.6090</td>\n",
       "      <td>8.1176</td>\n",
       "      <td>7.5379</td>\n",
       "      <td>7.8327</td>\n",
       "      <td>7.5541</td>\n",
       "      <td>7.8376</td>\n",
       "      <td>7.9190</td>\n",
       "      <td>7.8672</td>\n",
       "      <td>7.5682</td>\n",
       "      <td>7.4784</td>\n",
       "      <td>7.8521</td>\n",
       "      <td>7.6496</td>\n",
       "      <td>7.3517</td>\n",
       "      <td>7.4401</td>\n",
       "      <td>7.6754</td>\n",
       "      <td>7.8093</td>\n",
       "      <td>8.0799</td>\n",
       "      <td>7.8189</td>\n",
       "      <td>7.9144</td>\n",
       "      <td>7.9798</td>\n",
       "      <td>7.6367</td>\n",
       "      <td>7.5875</td>\n",
       "      <td>7.3403</td>\n",
       "      <td>7.6071</td>\n",
       "      <td>7.7039</td>\n",
       "      <td>7.9817</td>\n",
       "      <td>7.8251</td>\n",
       "      <td>8.0923</td>\n",
       "      <td>7.8580</td>\n",
       "      <td>8.2655</td>\n",
       "      <td>7.4652</td>\n",
       "      <td>7.6534</td>\n",
       "      <td>8.0463</td>\n",
       "      <td>7.7518</td>\n",
       "      <td>7.6910</td>\n",
       "      <td>7.8168</td>\n",
       "      <td>7.7033</td>\n",
       "      <td>7.4519</td>\n",
       "    </tr>\n",
       "  </tbody>\n",
       "</table>\n",
       "</div>"
      ],
      "text/plain": [
       "                  24      25      26      27      28      29      30      31  \\\n",
       "FAM138F       7.2068  7.8298  7.2091  7.0550  7.1302  7.5896  7.1414  7.5786   \n",
       "LOC100133331  8.7216  8.9175  8.9301  8.5439  8.4071  8.6109  8.5179  8.5027   \n",
       "LOC100132062  8.9883  9.1842  9.2968  8.8213  8.6142  8.8517  8.7155  8.6525   \n",
       "LOC388312     9.4779  9.6337  9.8979  9.4340  9.0457  9.3895  9.1508  8.9109   \n",
       "BC016143      8.0481  8.1224  7.8660  7.4640  7.7226  7.4770  7.7176  8.1704   \n",
       "\n",
       "                  32      33      34      35      36      37      38      39  \\\n",
       "FAM138F       7.3579  7.2707  8.0351  7.5432  7.1810  7.5264  7.3716  7.4850   \n",
       "LOC100133331  8.4111  8.4076  8.0996  8.3209  8.2516  8.7270  8.4931  8.3430   \n",
       "LOC100132062  8.6590  8.8388  8.1967  8.6573  8.4162  9.0187  8.7526  8.5856   \n",
       "LOC388312     9.1606  9.4837  8.6139  9.2815  8.9155  9.5883  9.2896  9.1303   \n",
       "BC016143      7.8795  7.4256  7.6490  7.5086  7.3649  7.5547  7.4353  7.2359   \n",
       "\n",
       "                  40      41      42      43      44      45      46       47  \\\n",
       "FAM138F       7.4165  6.9773  7.8786  7.5083  7.0880  6.8838  6.8119   7.2496   \n",
       "LOC100133331  8.2109  8.3712  8.1959  8.5155  8.4385  8.4538  8.3748   8.9122   \n",
       "LOC100132062  8.3940  8.7869  8.5050  8.7980  8.8253  8.7470  8.5175   9.4422   \n",
       "LOC388312     8.8056  9.4372  9.0982  9.3524  9.4505  9.2828  8.9693  10.1554   \n",
       "BC016143      7.6896  7.3325  7.5772  8.0188  7.7060  7.5093  7.4226   7.3826   \n",
       "\n",
       "                   48       49       50      51      52      53      54  \\\n",
       "FAM138F        6.8267   7.0636   7.6835  7.2210  6.8487  7.5918  7.1678   \n",
       "LOC100133331   8.9778   9.4644   9.3493  8.7814  8.8734  8.2312  8.1288   \n",
       "LOC100132062   9.3882  10.0785   9.8959  9.1714  9.2340  8.5544  8.3662   \n",
       "LOC388312     10.0778  10.8549  10.6338  9.8162  9.8769  9.1008  8.9679   \n",
       "BC016143       7.4499   7.6519   7.3737  7.5800  7.5518  7.6202  7.3509   \n",
       "\n",
       "                   55       56       57       58      59      60      61  \\\n",
       "FAM138F        7.3017   7.1610   7.2261   7.1593  7.1019  7.3116  7.8494   \n",
       "LOC100133331   9.2388   9.7806   9.3428   9.3831  8.3430  8.4065  8.3663   \n",
       "LOC100132062   9.7731  10.4121   9.8967   9.8278  8.5420  8.4365  8.7258   \n",
       "LOC388312     10.5605  11.2396  10.6759  10.5998  8.9747  8.6799  9.3271   \n",
       "BC016143       7.6288   7.8099   7.5718   7.6041  7.6090  8.1176  7.5379   \n",
       "\n",
       "                  62      63      64       65      66      67      68      69  \\\n",
       "FAM138F       7.2701  7.5647  7.2515   7.1507  7.4678  7.5946  7.4190  7.1283   \n",
       "LOC100133331  8.4757  8.8474  8.6235   8.8505  8.3267  8.6988  8.4272  8.6103   \n",
       "LOC100132062  8.8142  9.1067  8.8586   9.3616  8.4853  9.0260  8.7151  9.0461   \n",
       "LOC388312     9.3429  9.6523  9.3837  10.0741  8.8199  9.5730  9.3093  9.6250   \n",
       "BC016143      7.8327  7.5541  7.8376   7.9190  7.8672  7.5682  7.4784  7.8521   \n",
       "\n",
       "                  70      71      72      73      74       75      76      77  \\\n",
       "FAM138F       7.1075  7.5319  7.4337  6.8102  6.7455   7.4960  7.2845  7.0643   \n",
       "LOC100133331  8.6806  8.8390  8.1981  8.4159  8.4007   9.1633  8.9434  8.2883   \n",
       "LOC100132062  9.0847  9.2998  8.4922  8.7216  8.6120   9.4830  9.1429  8.6007   \n",
       "LOC388312     9.6714  9.9908  9.0470  9.2068  9.0240  10.0791  9.6071  9.1311   \n",
       "BC016143      7.6496  7.3517  7.4401  7.6754  7.8093   8.0799  7.8189  7.9144   \n",
       "\n",
       "                  78      79      80      81      82      83      84      85  \\\n",
       "FAM138F       7.3322  7.2334  7.1355  7.3307  7.3263  7.5301  7.2411  7.7174   \n",
       "LOC100133331  8.6903  8.4386  8.1473  8.6789  8.6000  8.5545  8.5200  8.6790   \n",
       "LOC100132062  9.0542  8.6074  8.4648  9.1033  8.7555  8.6041  8.9117  8.9892   \n",
       "LOC388312     9.6266  9.0808  9.0846  9.6172  9.1330  8.8550  9.4735  9.5009   \n",
       "BC016143      7.9798  7.6367  7.5875  7.3403  7.6071  7.7039  7.9817  7.8251   \n",
       "\n",
       "                  86       87      88      89      90      91      92  \\\n",
       "FAM138F       7.8088   6.8142  7.0029  7.1317  7.2842  7.0717  7.3420   \n",
       "LOC100133331  8.7493   9.1015  8.8982  8.5958  8.9521  8.7461  8.3204   \n",
       "LOC100132062  8.9242   9.6005  9.1675  8.9374  9.2933  9.1679  8.5116   \n",
       "LOC388312     9.2937  10.3573  9.7203  9.6554  9.8822  9.7870  8.9684   \n",
       "BC016143      8.0923   7.8580  8.2655  7.4652  7.6534  8.0463  7.7518   \n",
       "\n",
       "                   93       94       95       96  \n",
       "FAM138F        6.6286   6.7240   7.5894   7.4378  \n",
       "LOC100133331   9.7240   9.5739   9.7265   8.8964  \n",
       "LOC100132062  10.2898  10.2080  10.3238   9.3807  \n",
       "LOC388312     11.1171  11.0556  11.1514  10.1370  \n",
       "BC016143       7.6910   7.8168   7.7033   7.4519  "
      ]
     },
     "execution_count": 17,
     "metadata": {},
     "output_type": "execute_result"
    }
   ],
   "source": [
    "crohns.head()"
   ]
  },
  {
   "cell_type": "markdown",
   "metadata": {},
   "source": [
    "### Reduce process \n",
    "\n",
    "> **Exercise 01-5:** With the key-value pairs organized by disease state, it is time to create and execute code of a reduce process. The reduce process will compute the pairwise t-statistics and p-values for each gene and return the sorted results. Specifically, your `gene_test` with arguments of the two mapped data frames will do the following:   \n",
    "> 1. Create an empty data frame with columns gene, t_statistics, and p-value.\n",
    "> 2. A for loop iterates over the keys of either of the data frames.  \n",
    "> 3. Compute the t-statistic and p-value for the gene (key).\n",
    "> 4. Append the results to the data frame.   \n",
    "> 5. Sort the results data frame, inplace, into ascending order.\n",
    "> 6. Return the resulting data frame."
   ]
  },
  {
   "cell_type": "code",
   "execution_count": 18,
   "metadata": {
    "scrolled": true
   },
   "outputs": [],
   "source": [
    "def gene_test(ulcerative, crohns):  \n",
    "    test_results = pd.DataFrame(columns=['gene','t_statistic','p_value'])\n",
    "    ## Put your code below. \n",
    "    for key in ulcerative.index: \n",
    "        ## Compute the statistic for the key \n",
    "        t_statistic, p_value = ttest_ind(ulcerative.loc[key,:],crohns.loc[key,:])\n",
    "        test_results = test_results.append({'gene':key, 't_statistic':t_statistic, 'p_value':p_value}, ignore_index=True)\n",
    "    test_results.sort_values('p_value', axis=0, ascending=True, inplace=True) \n",
    "    return test_results.set_index('gene')\n",
    "    \n",
    "gene_statistics = gene_test(ulcerative, crohns)    "
   ]
  },
  {
   "cell_type": "code",
   "execution_count": 26,
   "metadata": {},
   "outputs": [
    {
     "data": {
      "text/html": [
       "<div>\n",
       "<style scoped>\n",
       "    .dataframe tbody tr th:only-of-type {\n",
       "        vertical-align: middle;\n",
       "    }\n",
       "\n",
       "    .dataframe tbody tr th {\n",
       "        vertical-align: top;\n",
       "    }\n",
       "\n",
       "    .dataframe thead th {\n",
       "        text-align: right;\n",
       "    }\n",
       "</style>\n",
       "<table border=\"1\" class=\"dataframe\">\n",
       "  <thead>\n",
       "    <tr style=\"text-align: right;\">\n",
       "      <th></th>\n",
       "      <th>t_statistic</th>\n",
       "      <th>p_value</th>\n",
       "      <th>holms_threshold</th>\n",
       "      <th>significant</th>\n",
       "    </tr>\n",
       "    <tr>\n",
       "      <th>gene</th>\n",
       "      <th></th>\n",
       "      <th></th>\n",
       "      <th></th>\n",
       "      <th></th>\n",
       "    </tr>\n",
       "  </thead>\n",
       "  <tbody>\n",
       "    <tr>\n",
       "      <th>CPQ</th>\n",
       "      <td>-6.868466</td>\n",
       "      <td>6.691708e-10</td>\n",
       "      <td>0.000005</td>\n",
       "      <td>True</td>\n",
       "    </tr>\n",
       "    <tr>\n",
       "      <th>FOSB</th>\n",
       "      <td>6.356964</td>\n",
       "      <td>7.126189e-09</td>\n",
       "      <td>0.000005</td>\n",
       "      <td>True</td>\n",
       "    </tr>\n",
       "    <tr>\n",
       "      <th>GBA3</th>\n",
       "      <td>-6.162788</td>\n",
       "      <td>1.719932e-08</td>\n",
       "      <td>0.000005</td>\n",
       "      <td>True</td>\n",
       "    </tr>\n",
       "    <tr>\n",
       "      <th>LMNA</th>\n",
       "      <td>5.981750</td>\n",
       "      <td>3.873893e-08</td>\n",
       "      <td>0.000005</td>\n",
       "      <td>True</td>\n",
       "    </tr>\n",
       "    <tr>\n",
       "      <th>DMKN</th>\n",
       "      <td>5.881375</td>\n",
       "      <td>6.051100e-08</td>\n",
       "      <td>0.000005</td>\n",
       "      <td>True</td>\n",
       "    </tr>\n",
       "  </tbody>\n",
       "</table>\n",
       "</div>"
      ],
      "text/plain": [
       "      t_statistic       p_value  holms_threshold  significant\n",
       "gene                                                         \n",
       "CPQ     -6.868466  6.691708e-10         0.000005         True\n",
       "FOSB     6.356964  7.126189e-09         0.000005         True\n",
       "GBA3    -6.162788  1.719932e-08         0.000005         True\n",
       "LMNA     5.981750  3.873893e-08         0.000005         True\n",
       "DMKN     5.881375  6.051100e-08         0.000005         True"
      ]
     },
     "execution_count": 26,
     "metadata": {},
     "output_type": "execute_result"
    }
   ],
   "source": [
    "gene_statistics.head()"
   ]
  },
  {
   "cell_type": "markdown",
   "metadata": {},
   "source": [
    "### Significance of results \n",
    "\n",
    "With the gene data reduced to the t-test statistics, you will now determine the significance of these tests. It is important to understand that scientists believe that expression of a disease, like Corhn's, is only in a small number of genes.  \n",
    "\n",
    "> **Exercise 01-6:** As a first step in understanding the gene expression significance complete and execute the code in the cell below to find the number of 'significant' genes using the simple single hypothesis test cutoff criteria.  "
   ]
  },
  {
   "cell_type": "code",
   "execution_count": 19,
   "metadata": {},
   "outputs": [
    {
     "data": {
      "text/plain": [
       "2548"
      ]
     },
     "execution_count": 19,
     "metadata": {},
     "output_type": "execute_result"
    }
   ],
   "source": [
    "significance_level =0.05\n",
    "## Put your code below. \n",
    "significant_tests = gene_statistics[gene_statistics.iloc[:,1] < significance_level]\n",
    "len(significant_tests)"
   ]
  },
  {
   "cell_type": "markdown",
   "metadata": {},
   "source": [
    "> Does this large number of 'statistically significant' results appear credible, given that only a few genes are thought to have significant expression for this disease?    \n",
    "> **End of exercise.**\n",
    "\n",
    "> **Exercise 01-7:** We have already seen that the Bonferroni correction is a rather conservative approach to testing the significance of large numbers of hypotheses. You will now use the Bonferroni correction to test the significance of the gene expression, by completing the code in the cell below.  "
   ]
  },
  {
   "cell_type": "code",
   "execution_count": 20,
   "metadata": {},
   "outputs": [
    {
     "data": {
      "text/plain": [
       "59"
      ]
     },
     "execution_count": 20,
     "metadata": {},
     "output_type": "execute_result"
    }
   ],
   "source": [
    "## Put your code below. \n",
    "significance_Bonferroni = 0.05/len(gene_statistics)\n",
    "significant_Bonferroni = gene_statistics[gene_statistics.iloc[:,1] < significance_Bonferroni]\n",
    "len(significant_Bonferroni)"
   ]
  },
  {
   "cell_type": "markdown",
   "metadata": {},
   "source": [
    "> The foregoing result seems reasonable, but is it too conservative?"
   ]
  },
  {
   "cell_type": "markdown",
   "metadata": {},
   "source": [
    "> **Exercise 01-08:** You will now apply the Holms method to determining significance of the gene expression test results. In the cell below complete the `holms_significance` function with arguments of the results data frame and the significance level. This function does the following:  \n",
    "> 1. Find the number of test results and compute the numerator used for the cutoff calculation. \n",
    "> 2. Compute the vector of thresholds using the Holms formula. Use the Python `range`function to get the values of the index i. But, keep in mind that range produces a zero-indexed iterator, and the algorithm needs a one-indexed list.  Use the [numpy.divide](https://numpy.org/doc/stable/reference/generated/numpy.divide.html) function to perform the vector divide. Save these threshold values in a data frame in a 'holms_threshold' column.   \n",
    "> 3. Using the threshold values compute a logical vector and save it in a column names 'significance' in the data frame.\n",
    "> 4. Return the data frame.\n",
    "> Finally, execute the function and save the results in a data frame. Then find the length of the subset where the 'significance' value is True. "
   ]
  },
  {
   "cell_type": "code",
   "execution_count": 21,
   "metadata": {},
   "outputs": [
    {
     "data": {
      "text/plain": [
       "59"
      ]
     },
     "execution_count": 21,
     "metadata": {},
     "output_type": "execute_result"
    }
   ],
   "source": [
    "def holms_significance(test_results, significance):\n",
    "    ## First compute the thresholds for each of the ordered tests\n",
    "    ## Put your code below. \n",
    "    n_tests = len(test_results)\n",
    "    numerator = np.add(n_tests + 2, list(range(n_tests)))\n",
    "    test_results['holms_threshold'] = np.divide(significance, numerator)\n",
    "    ## Now we test the significance of the ordered p-values \n",
    "    test_results['significant'] = test_results.iloc[:,1] < test_results.loc[:,'holms_threshold']\n",
    "    return test_results\n",
    "\n",
    "holms_results = holms_significance(gene_statistics, significance_level)    \n",
    "len(holms_results.loc[holms_results.loc[:,'significant'],:])"
   ]
  },
  {
   "cell_type": "markdown",
   "metadata": {},
   "source": [
    "> Despite the general properties that the Holm's method is considered less conservative than the Bonferroni correction the results agree in this case. Does this agreement give you some confidence in the result and why?  \n",
    "> **End of exercise.**"
   ]
  },
  {
   "cell_type": "markdown",
   "metadata": {},
   "source": [
    "You can visualize the results of the Holm's method test. The plot has two key elements:  \n",
    "1. Plot the curve of the p-values vs. the order number, i. The line is color coded by significance or not.\n",
    "2. Plot the threshold line. This line is straight since the threshold is a linear function of i."
   ]
  },
  {
   "cell_type": "code",
   "execution_count": 22,
   "metadata": {
    "scrolled": false
   },
   "outputs": [
    {
     "name": "stderr",
     "output_type": "stream",
     "text": [
      "C:\\USERS\\STEVEPC2\\ANACONDA3\\lib\\site-packages\\ipykernel_launcher.py:2: SettingWithCopyWarning: \n",
      "A value is trying to be set on a copy of a slice from a DataFrame.\n",
      "Try using .loc[row_indexer,col_indexer] = value instead\n",
      "\n",
      "See the caveats in the documentation: https://pandas.pydata.org/pandas-docs/stable/user_guide/indexing.html#returning-a-view-versus-a-copy\n",
      "  \n"
     ]
    },
    {
     "data": {
      "image/png": "[encoded data removed]",
      "text/plain": [
       "<Figure size 576x432 with 1 Axes>"
      ]
     },
     "metadata": {
      "needs_background": "light"
     },
     "output_type": "display_data"
    }
   ],
   "source": [
    "def plot_significance(results, threshold):\n",
    "    results['number'] = range(len(results))\n",
    "    fig, ax = plt.subplots(figsize=(8, 6))\n",
    "    sns.lineplot(x='number',y=threshold, data=results, ax=ax, color='black', linewidth=0.5)\n",
    "    sns.scatterplot(x='number',y='p_value', hue='significant', data=results, s=3, ax=ax)\n",
    "    ax.set_title('Significance of gene expression')\n",
    "    ax.set_xlabel('Gene number')\n",
    "    ax.set_ylabel('p-value')\n",
    "    \n",
    "plot_significance(holms_results.iloc[:500,:], 'holms_threshold')    "
   ]
  },
  {
   "cell_type": "markdown",
   "metadata": {},
   "source": [
    "Notice the following about this plot:  \n",
    "1. The p-value significance line crosses the threshold point at an apparent break point.   \n",
    "2. The significant p-values are all very small since there are so many tests."
   ]
  },
  {
   "cell_type": "markdown",
   "metadata": {},
   "source": [
    "### Benamini-Hochberg FDR Control \n",
    "\n",
    "The Benamini-Hochberg FDR control algorithm is another way to control false discoveries. Stat with an ordered set of $n$ p-values, $D = \\{ p_{(1)}, p_{(2)}, p_{(3)}, \\ldots, p_{(n)} \\}$ we define a false discovery rate, $q$:\n",
    "\n",
    "$$FDR(D) \\le q$$\n",
    "\n",
    "The cutoff threshold for the ith p-value is then:\n",
    "$$p_{(i)} \\le Threshold(D_q) = \\frac{q}{n} i$$"
   ]
  },
  {
   "cell_type": "markdown",
   "metadata": {},
   "source": [
    "> **Exercise 01-9:** In this exercise you will apply the Benamini-Hochberg FDR control algorithm for testing the significance of the gene expressions. The `BH_significance` function is quite similar to the Holm's method function you have already created. Given the large number of genes you must use a low false discovery rate, $0.001$, or 1 out of 1,000. \n",
    "> Execute your function, saving the result. Then print the number of significant cases. "
   ]
  },
  {
   "cell_type": "code",
   "execution_count": 29,
   "metadata": {},
   "outputs": [
    {
     "data": {
      "text/plain": [
       "70"
      ]
     },
     "execution_count": 29,
     "metadata": {},
     "output_type": "execute_result"
    }
   ],
   "source": [
    "def BH_significance(test_results, false_discovery_tollerance):\n",
    "    ## First compute the thresholds for each of the ordered tests\n",
    "    ## Put your code below. \n",
    "    n_tests = len(test_results)\n",
    "    multiplier = list(range(n_tests))\n",
    "    test_results['bh_threshold'] = np.multiply(false_discovery_tollerance/n_tests, multiplier)\n",
    "    ## Now we test the significance of the ordered p-values \n",
    "    test_results['significant'] = test_results.iloc[:,1] < test_results.loc[:,'bh_threshold']\n",
    "    return test_results\n",
    "\n",
    "BH_results = BH_significance(gene_statistics, 0.001)    \n",
    "len(BH_results.loc[BH_results.loc[:,'significant'],:])"
   ]
  },
  {
   "cell_type": "markdown",
   "metadata": {},
   "source": [
    "> The result is similar to the first two FDR control methods. Given the false discovery parameter of 0.0001 do you think this is a reasonable result? "
   ]
  },
  {
   "cell_type": "markdown",
   "metadata": {},
   "source": [
    "Finally, execute the code in the cell below and examine the resulting plot."
   ]
  },
  {
   "cell_type": "code",
   "execution_count": 31,
   "metadata": {},
   "outputs": [
    {
     "name": "stderr",
     "output_type": "stream",
     "text": [
      "C:\\USERS\\STEVEPC2\\ANACONDA3\\lib\\site-packages\\ipykernel_launcher.py:2: SettingWithCopyWarning: \n",
      "A value is trying to be set on a copy of a slice from a DataFrame.\n",
      "Try using .loc[row_indexer,col_indexer] = value instead\n",
      "\n",
      "See the caveats in the documentation: https://pandas.pydata.org/pandas-docs/stable/user_guide/indexing.html#returning-a-view-versus-a-copy\n",
      "  \n"
     ]
    },
    {
     "data": {
      "image/png": "[encoded data removed]",
      "text/plain": [
       "<Figure size 576x432 with 1 Axes>"
      ]
     },
     "metadata": {
      "needs_background": "light"
     },
     "output_type": "display_data"
    }
   ],
   "source": [
    "plot_significance(BH_results.iloc[:150,:], 'bh_threshold')    "
   ]
  },
  {
   "cell_type": "markdown",
   "metadata": {},
   "source": [
    "> **Exercise 01-10**: Compare the plot above to the foregoing plot for Holm's method. Are the breaks in slope of the p-value curve at the crossing point with the threshold values reasonable in both cases? "
   ]
  },
  {
   "cell_type": "markdown",
   "metadata": {},
   "source": [
    "##### Copyright 2021, Stephen F. Elston. All rights reserved. "
   ]
  },
  {
   "cell_type": "code",
   "execution_count": null,
   "metadata": {},
   "outputs": [],
   "source": []
  }
 ],
 "metadata": {
  "kernelspec": {
   "display_name": "Python 3",
   "language": "python",
   "name": "python3"
  },
  "language_info": {
   "codemirror_mode": {
    "name": "ipython",
    "version": 3
   },
   "file_extension": ".py",
   "mimetype": "text/x-python",
   "name": "python",
   "nbconvert_exporter": "python",
   "pygments_lexer": "ipython3",
   "version": "3.7.3"
  }
 },
 "nbformat": 4,
 "nbformat_minor": 2
}
